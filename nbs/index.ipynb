{
 "cells": [
  {
   "cell_type": "code",
   "execution_count": null,
   "metadata": {},
   "outputs": [],
   "source": [
    "#hide\n",
    "%reload_ext autoreload\n",
    "%autoreload 2"
   ]
  },
  {
   "cell_type": "markdown",
   "metadata": {},
   "source": [
    "# FlyVec\n",
    "> Sparse Binary Word Embeddings Inspired by the Fruit Fly Brain"
   ]
  },
  {
   "cell_type": "markdown",
   "metadata": {},
   "source": [
    "Code based on the ICLR 2021 paper [Can a Fruit Fly Learn Word Embeddings?](https://arxiv.org/abs/2101.06887).\n",
    "\n",
    "In this work we use a well-established neurobiological network motif from the mushroom body of the fruit fly brain to learn sparse binary word embeddings from raw unstructured text. This package allows the user to access pre-trained word embeddings and generate sparse binary hash codes for individual words. \n",
    "\n",
    "Interactive demos of the learned concepts available at [flyvec.org](http://flyvec.org)."
   ]
  },
  {
   "cell_type": "markdown",
   "metadata": {},
   "source": [
    "## How to use"
   ]
  },
  {
   "cell_type": "markdown",
   "metadata": {},
   "source": [
    "### Install from Pip (recommended)\n",
    "\n",
    "`pip install flyvec`"
   ]
  },
  {
   "cell_type": "markdown",
   "metadata": {},
   "source": [
    "### Installing from Source\n",
    "\n",
    "After cloning:\n",
    "\n",
    "```\n",
    "conda env create -f environment-dev.yml\n",
    "conda activate flyvec\n",
    "pip install -e .\n",
    "```"
   ]
  },
  {
   "cell_type": "markdown",
   "metadata": {},
   "source": [
    "### Basic Usage\n",
    "An example below illustrates how one can access the binary word embedding for individual tokens for a default hash length `k=50`. "
   ]
  },
  {
   "cell_type": "code",
   "execution_count": null,
   "metadata": {},
   "outputs": [
    {
     "data": {
      "text/plain": [
       "{'token': 'market',\n",
       " 'id': 1180,\n",
       " 'embedding': array([0, 0, 0, 0, 0, 0, 0, 0, 0, 0, 0, 0, 0, 0, 1, 0, 0, 0, 0, 0, 0, 0,\n",
       "        0, 0, 0, 0, 0, 0, 1, 0, 0, 0, 1, 0, 0, 0, 1, 0, 0, 0, 0, 0, 0, 0,\n",
       "        1, 0, 0, 0, 0, 0, 0, 0, 0, 0, 1, 1, 0, 0, 0, 0, 0, 0, 0, 0, 0, 0,\n",
       "        0, 0, 0, 0, 0, 0, 0, 0, 0, 0, 0, 0, 1, 0, 0, 0, 0, 0, 0, 1, 0, 0,\n",
       "        0, 0, 0, 0, 1, 0, 0, 0, 0, 0, 0, 0, 0, 0, 0, 0, 0, 0, 0, 0, 0, 0,\n",
       "        0, 0, 1, 0, 0, 0, 0, 0, 0, 0, 1, 1, 0, 0, 0, 1, 0, 0, 1, 1, 0, 1,\n",
       "        0, 0, 0, 1, 0, 0, 0, 0, 0, 0, 0, 1, 0, 0, 0, 0, 0, 0, 0, 0, 0, 0,\n",
       "        0, 0, 0, 0, 0, 0, 1, 0, 0, 0, 0, 0, 0, 0, 0, 0, 0, 0, 0, 0, 0, 1,\n",
       "        0, 0, 0, 1, 0, 0, 1, 0, 0, 0, 0, 0, 0, 0, 0, 0, 0, 0, 0, 0, 0, 0,\n",
       "        0, 0, 0, 0, 0, 0, 0, 0, 0, 0, 0, 0, 0, 0, 1, 1, 0, 0, 0, 0, 0, 0,\n",
       "        1, 0, 0, 1, 0, 0, 0, 0, 0, 0, 0, 0, 0, 0, 1, 0, 0, 0, 1, 0, 0, 0,\n",
       "        0, 0, 0, 0, 0, 0, 0, 0, 0, 0, 0, 0, 0, 1, 0, 1, 0, 0, 0, 1, 0, 0,\n",
       "        0, 0, 0, 0, 0, 0, 0, 0, 0, 0, 0, 0, 0, 1, 1, 0, 0, 0, 0, 0, 0, 0,\n",
       "        1, 0, 0, 0, 0, 0, 0, 1, 0, 0, 0, 0, 0, 0, 1, 0, 0, 0, 0, 0, 0, 0,\n",
       "        0, 0, 0, 0, 0, 1, 1, 0, 0, 0, 0, 0, 0, 0, 1, 0, 0, 0, 0, 0, 0, 0,\n",
       "        0, 0, 0, 0, 0, 0, 1, 0, 0, 0, 0, 0, 1, 0, 0, 0, 1, 0, 0, 0, 0, 0,\n",
       "        1, 0, 0, 0, 1, 0, 0, 0, 0, 0, 0, 0, 0, 0, 1, 0, 0, 0, 0, 1, 0, 0,\n",
       "        0, 0, 0, 0, 0, 0, 0, 0, 0, 0, 0, 0, 1, 0, 1, 0, 0, 0, 0, 1, 0, 0,\n",
       "        0, 0, 0, 0], dtype=int8)}"
      ]
     },
     "execution_count": null,
     "metadata": {},
     "output_type": "execute_result"
    }
   ],
   "source": [
    "import numpy as np\n",
    "from flyvec import FlyVec\n",
    "\n",
    "model = FlyVec.load()\n",
    "embed_info = model.get_sparse_embedding(\"market\"); embed_info"
   ]
  },
  {
   "cell_type": "markdown",
   "metadata": {},
   "source": [
    "### Changing the Hash Length\n",
    "The user can obtain the FlyVec embeddings for any hash length using the following example. "
   ]
  },
  {
   "cell_type": "code",
   "execution_count": null,
   "metadata": {},
   "outputs": [
    {
     "data": {
      "text/plain": [
       "4"
      ]
     },
     "execution_count": null,
     "metadata": {},
     "output_type": "execute_result"
    }
   ],
   "source": [
    "small_embed = model.get_sparse_embedding(\"market\", 4); np.sum(small_embed['embedding'])"
   ]
  },
  {
   "cell_type": "markdown",
   "metadata": {},
   "source": [
    "### Handling \"unknown\" tokens"
   ]
  },
  {
   "cell_type": "markdown",
   "metadata": {},
   "source": [
    "FlyVec uses a simple, word-based tokenizer. The provided model uses a vocabulary with about 20,000 words, all lower-cased, with special tokens for numbers (`<NUM>`) and unknown words (`<UNK>`). Unknown tokens have the token id of `0`, which can be used to filter unknown tokens."
   ]
  },
  {
   "cell_type": "code",
   "execution_count": null,
   "metadata": {},
   "outputs": [
    {
     "name": "stdout",
     "output_type": "stream",
     "text": [
      "I AM THE UNKNOWN TOKEN DON'T USE ME FOR ANYTHING IMPORTANT\n"
     ]
    }
   ],
   "source": [
    "unk_embed = model.get_sparse_embedding(\"DefNotAWord\")\n",
    "if unk_embed['id'] == 0:\n",
    "    print(\"I AM THE UNKNOWN TOKEN DON'T USE ME FOR ANYTHING IMPORTANT\")"
   ]
  },
  {
   "cell_type": "markdown",
   "metadata": {},
   "source": [
    "### Batch generating word embeddings\n",
    "Embeddings for individual words in a sentence can be obtained using this snippet. "
   ]
  },
  {
   "cell_type": "code",
   "execution_count": null,
   "metadata": {},
   "outputs": [
    {
     "name": "stdout",
     "output_type": "stream",
     "text": [
      "TOKENS:  ['supreme', 'court', 'dismissed', 'the', 'criminal', 'charges']\n",
      "EMBEDDINGS:  [[0 1 0 ... 0 0 0]\n",
      " [0 0 0 ... 0 0 0]\n",
      " [0 0 0 ... 0 1 0]\n",
      " [0 0 0 ... 0 0 0]\n",
      " [0 0 0 ... 0 1 0]\n",
      " [0 0 0 ... 0 1 0]]\n"
     ]
    }
   ],
   "source": [
    "sentence = \"Supreme Court dismissed the criminal charges.\"\n",
    "tokens = model.tokenize(sentence)\n",
    "embedding_info = [model.get_sparse_embedding(t) for t in tokens]\n",
    "embeddings = np.array([e['embedding'] for e in embedding_info])\n",
    "print(\"TOKENS: \", [e['token'] for e in embedding_info])\n",
    "print(\"EMBEDDINGS: \", embeddings)"
   ]
  },
  {
   "cell_type": "markdown",
   "metadata": {},
   "source": [
    "### FlyVec vocabulary\n",
    "\n",
    "The vocabulary under the hood uses the gensim `Dictionary` and can be accessed by either IDs (`int`s) or Tokens (`str`s)."
   ]
  },
  {
   "cell_type": "code",
   "execution_count": null,
   "metadata": {},
   "outputs": [
    {
     "name": "stdout",
     "output_type": "stream",
     "text": [
      "['properties', 'a', 'among', 'and', 'any']\n",
      "[2, 3, 4, 5, 6]\n"
     ]
    }
   ],
   "source": [
    "# The tokens in the vocabulary\n",
    "print(model.token_vocab[:5])\n",
    "\n",
    "# The IDs that correspond to those tokens\n",
    "print(model.vocab[:5])\n",
    "\n",
    "# The dictionary object itself\n",
    "model.dictionary;"
   ]
  },
  {
   "cell_type": "markdown",
   "metadata": {},
   "source": [
    "## Simple word embeddings"
   ]
  },
  {
   "cell_type": "markdown",
   "metadata": {},
   "source": [
    "Only care about the sparse, context independent word embeddings for our small vocabulary? Get precomputed word vectors at `hash_length=51` below:\n",
    "\n",
    "```\n",
    "wget https://raw.githubusercontent.com/bhoov/flyvec/master/simple-flyvec-embeddings.json\n",
    "```"
   ]
  },
  {
   "cell_type": "code",
   "execution_count": null,
   "metadata": {},
   "outputs": [
    {
     "name": "stdout",
     "output_type": "stream",
     "text": [
      "Invalid token: `–`. Continuing.\n",
      "Original Error:\n",
      "\n",
      " list index out of range\n",
      "Invalid token: `…`. Continuing.\n",
      "Original Error:\n",
      "\n",
      " list index out of range\n",
      "Invalid token: `—`. Continuing.\n",
      "Original Error:\n",
      "\n",
      " list index out of range\n",
      "Invalid token: `•`. Continuing.\n",
      "Original Error:\n",
      "\n",
      " list index out of range\n",
      "Invalid token: `”`. Continuing.\n",
      "Original Error:\n",
      "\n",
      " list index out of range\n",
      "Invalid token: ``. Continuing.\n",
      "Original Error:\n",
      "\n",
      " list index out of range\n",
      "Invalid token: `​`. Continuing.\n",
      "Original Error:\n",
      "\n",
      " list index out of range\n",
      "Invalid token: `×`. Continuing.\n",
      "Original Error:\n",
      "\n",
      " list index out of range\n",
      "Invalid token: `±`. Continuing.\n",
      "Original Error:\n",
      "\n",
      " list index out of range\n",
      "Invalid token: `−`. Continuing.\n",
      "Original Error:\n",
      "\n",
      " list index out of range\n",
      "Invalid token: `»`. Continuing.\n",
      "Original Error:\n",
      "\n",
      " list index out of range\n",
      "Invalid token: `«`. Continuing.\n",
      "Original Error:\n",
      "\n",
      " list index out of range\n",
      "Invalid token: `…”`. Continuing.\n",
      "Original Error:\n",
      "\n",
      " list index out of range\n",
      "Invalid token: `©`. Continuing.\n",
      "Original Error:\n",
      "\n",
      " list index out of range\n",
      "Invalid token: `→`. Continuing.\n",
      "Original Error:\n",
      "\n",
      " list index out of range\n",
      "Invalid token: `à`. Continuing.\n",
      "Original Error:\n",
      "\n",
      " list index out of range\n",
      "Invalid token: `🙂`. Continuing.\n",
      "Original Error:\n",
      "\n",
      " list index out of range\n",
      "Invalid token: `“`. Continuing.\n",
      "Original Error:\n",
      "\n",
      " list index out of range\n",
      "Invalid token: ``. Continuing.\n",
      "Original Error:\n",
      "\n",
      " list index out of range\n",
      "Invalid token: `на`. Continuing.\n",
      "Original Error:\n",
      "\n",
      " list index out of range\n",
      "Invalid token: `и`. Continuing.\n",
      "Original Error:\n",
      "\n",
      " list index out of range\n",
      "Invalid token: `в`. Continuing.\n",
      "Original Error:\n",
      "\n",
      " list index out of range\n",
      "Invalid token: `―`. Continuing.\n",
      "Original Error:\n",
      "\n",
      " list index out of range\n",
      "Invalid token: `●`. Continuing.\n",
      "Original Error:\n",
      "\n",
      " list index out of range\n",
      "Invalid token: `·`. Continuing.\n",
      "Original Error:\n",
      "\n",
      " list index out of range\n",
      "Invalid token: ``. Continuing.\n",
      "Original Error:\n",
      "\n",
      " list index out of range\n",
      "Invalid token: `½`. Continuing.\n",
      "Original Error:\n",
      "\n",
      " list index out of range\n",
      "Invalid token: `è`. Continuing.\n",
      "Original Error:\n",
      "\n",
      " list index out of range\n",
      "Invalid token: `§`. Continuing.\n",
      "Original Error:\n",
      "\n",
      " list index out of range\n"
     ]
    }
   ],
   "source": [
    "# hide\n",
    "# (Uncomment below to recreate the JSON file)\n",
    "\n",
    "# import json\n",
    "\n",
    "# output = model.simple_word_vectors(exclude_stop_words=True, output_list=True)\n",
    "\n",
    "# def jsonify(lst):\n",
    "#     \"\"\"Turn np integers of a JSON list into an int\"\"\"\n",
    "#     return [int(o) for o in lst]\n",
    "\n",
    "# output = {k: jsonify(v) for k,v in output.items()}\n",
    "\n",
    "# with open(\"../simple-flyvec-embeddings.json\", 'w') as fp:\n",
    "#     json.dump(output, fp)"
   ]
  },
  {
   "cell_type": "markdown",
   "metadata": {},
   "source": [
    "# Training\n",
    "\n",
    "Please note that the training code is included, though code for processing the inputs.\n",
    "\n",
    "**Prerequisites**\n",
    "\n",
    "You need a python environment with `numpy` installed, a system that supports CUDA, `nvcc`, and `g++`.\n",
    "\n",
    "**Building the Source Files**\n",
    "\n",
    "`flyvec_compile`\n",
    "\n",
    "(Or, if using from source, you can also run `make training`)\n",
    "\n",
    "Note that you will see some warnings. This is expected.\n",
    "\n",
    "**Training**\n",
    "\n",
    "`flyvec_train path/to/encodings.npy path/to/offsets.npy -o save/checkpoints/in/this/directory`\n",
    "\n",
    "**Description of Inputs**\n",
    "\n",
    "- `encodings.npy` -- An `np.int32` array representing the tokenized vocabulary-IDs of the input corpus, of shape `(N,)` where `N` is the number of tokens in the corpus\n",
    "- `offsets.npy` -- An `np.uint64` array of shape `(C,)` where `C` is the number of chunks in the corpus. Each each value represents the index that starts a new chunk within `encodings.npy`. \n",
    "    (Chunks can be thought of as sentences or paragraphs within the corpus; boundaries over which the sliding window does not cross.)\n",
    "\n",
    "**Description of Outputs**\n",
    "\n",
    "- `model_X.npy` -- Stores checkpoints after every epoch within the specified output directory\n",
    "\n",
    "See `flyvec_train --help` for more options."
   ]
  },
  {
   "cell_type": "markdown",
   "metadata": {},
   "source": [
    "# Citation\n",
    "\n",
    "If you use this in your work, please cite:\n",
    "\n",
    "```\n",
    "@article{liang2021can,\n",
    "  title={Can a Fruit Fly Learn Word Embeddings?},\n",
    "  author={Liang, Yuchen and Ryali, Chaitanya K and Hoover, Benjamin and Grinberg, Leopold and Navlakha, Saket and Zaki, Mohammed J and Krotov, Dmitry},\n",
    "  journal={arXiv preprint arXiv:2101.06887},\n",
    "  year={2021}\n",
    "  url={https://arxiv.org/abs/2101.06887}\n",
    "}\n",
    "```"
   ]
  },
  {
   "cell_type": "markdown",
   "metadata": {},
   "source": [
    "# Export -"
   ]
  },
  {
   "cell_type": "code",
   "execution_count": null,
   "metadata": {},
   "outputs": [
    {
     "name": "stdout",
     "output_type": "stream",
     "text": [
      "Converted 00_core.ipynb.\n",
      "Converted 01_Tokenizer.ipynb.\n",
      "Converted 02_Download Helpers.ipynb.\n",
      "Converted 03_Train Flyvec.ipynb.\n",
      "Converted 04_utils.ipynb.\n",
      "Converted index.ipynb.\n"
     ]
    }
   ],
   "source": [
    "#hide\n",
    "from nbdev.export import notebook2script\n",
    "notebook2script()"
   ]
  }
 ],
 "metadata": {
  "kernelspec": {
   "display_name": "Python [conda env:flyvec] *",
   "language": "python",
   "name": "conda-env-flyvec-py"
  }
 },
 "nbformat": 4,
 "nbformat_minor": 2
}
