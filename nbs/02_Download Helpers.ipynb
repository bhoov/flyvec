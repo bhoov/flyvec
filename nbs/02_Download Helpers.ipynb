{
 "cells": [
  {
   "cell_type": "code",
   "execution_count": null,
   "id": "american-multimedia",
   "metadata": {},
   "outputs": [],
   "source": [
    "#default_exp downloader\n",
    "%reload_ext autoreload\n",
    "%autoreload 2"
   ]
  },
  {
   "cell_type": "markdown",
   "id": "available-moore",
   "metadata": {},
   "source": [
    "I need to download my data directory from the cloud hosted instance:"
   ]
  },
  {
   "cell_type": "code",
   "execution_count": null,
   "id": "earned-communications",
   "metadata": {},
   "outputs": [],
   "source": [
    "#export\n",
    "import boto3\n",
    "from pathlib import Path\n",
    "import zipfile\n",
    "from progressbar.progressbar import ProgressBar\n",
    "import tempfile\n",
    "import yaml"
   ]
  },
  {
   "cell_type": "markdown",
   "id": "confirmed-republican",
   "metadata": {},
   "source": [
    "# Downloading the data\n",
    "\n",
    "First, we configure the permissions to this bucket with the read-only credentials"
   ]
  },
  {
   "cell_type": "code",
   "execution_count": null,
   "id": "basic-extreme",
   "metadata": {},
   "outputs": [],
   "source": [
    "#export\n",
    "def get_config_dir():\n",
    "    config_dir = Path.home() / \".cache\" / \"flyvec\"\n",
    "    return config_dir\n",
    "\n",
    "def get_model_dir():\n",
    "    return get_config_dir() / \"data\""
   ]
  },
  {
   "cell_type": "code",
   "execution_count": null,
   "id": "brazilian-hindu",
   "metadata": {},
   "outputs": [],
   "source": [
    "#export\n",
    "def download_flyvec_data(outfile=None, force=False):\n",
    "    \"\"\"Download the zipped flyvec model from the cloud to a local file. If `outfile` is not provided, \n",
    "    use (the OS's) TEMPDIR / 'flyvec-data.zip'\n",
    "    \n",
    "    \"\"\"\n",
    "    tmp_file = Path(outfile) if outfile is not None else Path(tempfile.gettempdir()) / \"flyvec-data.zip\"\n",
    "    try: \n",
    "        fd = open(str(tmp_file), 'wb')\n",
    "    except PermissionError as pe:\n",
    "        print(f\"{pe}. Downloading to current working directory.\")\n",
    "        tmp_file = Path(\"flyvec-data.zip\")\n",
    "        fd = open(str(tmp_file), 'wb')\n",
    "                \n",
    "    if tmp_file.exists() and not force:\n",
    "        print(f\"Found existing {tmp_file}, reusing\")\n",
    "        return tmp_file\n",
    "    \n",
    "    access_key = \"07598db5c9364ad29002fe8e22daddd3\"\n",
    "    secret_key = \"a7bec64c8840439576380beb238b161117f2aeb3e7f993f0\"\n",
    "    service_endpoint = 'https://s3.ap.cloud-object-storage.appdomain.cloud'\n",
    "    session = boto3.Session(aws_access_key_id=access_key, aws_secret_access_key=secret_key, region_name=\"ap-geo\")\n",
    "\n",
    "    s3 = session.resource(\"s3\", endpoint_url=service_endpoint)\n",
    "    bucket = s3.Bucket(\"hoo-flyvec\")\n",
    "    obj = bucket.Object(\"data.zip\")\n",
    "    down_progress = ProgressBar(obj.content_length)\n",
    "\n",
    "    print(\"Downloading flyvec data:\")\n",
    "    down_progress.start()\n",
    "\n",
    "    def download_progress(chunk):\n",
    "        down_progress.update(down_progress.currval + chunk)\n",
    "    \n",
    "    obj.download_fileobj(fd, Callback=download_progress)\n",
    "    \n",
    "    fd.close()\n",
    "    down_progress.finish()\n",
    "    \n",
    "    return tmp_file"
   ]
  },
  {
   "cell_type": "markdown",
   "id": "conservative-outside",
   "metadata": {},
   "source": [
    "Extract the zipfile to the `flyvec` configuration directory (by default, `~/.cache/flyvec`, inspired by huggingface)"
   ]
  },
  {
   "cell_type": "code",
   "execution_count": null,
   "id": "funny-differential",
   "metadata": {},
   "outputs": [],
   "source": [
    "#export\n",
    "def unzip_data(path_to_zipped_data, outdir=None):\n",
    "    \"\"\"Unzip the flyvec models to the config directory. If `outdir` is not provided, use default flyvec configuration dir\"\"\"\n",
    "    \n",
    "    config_dir = get_config_dir() if outdir is None else Path(outdir)\n",
    "    if not config_dir.exists(): config_dir.mkdir(parents=True)\n",
    "    \n",
    "    with zipfile.ZipFile(str(path_to_zipped_data), mode='r') as zd:\n",
    "        zd.extractall(config_dir)\n",
    "    \n",
    "    return config_dir"
   ]
  },
  {
   "cell_type": "code",
   "execution_count": null,
   "id": "monthly-expression",
   "metadata": {},
   "outputs": [],
   "source": [
    "#export\n",
    "def prepare_flyvec_data(force=False):\n",
    "    \"\"\"Create pipeline to download flyvec data with default settings.\n",
    "    \n",
    "    Args:\n",
    "        force: If true, don't check for existance of files\n",
    "    \"\"\"\n",
    "\n",
    "    if not force:\n",
    "        # Check if file exists\n",
    "        model_dir = get_model_dir()\n",
    "        conf_f = model_dir / \"config.yaml\"\n",
    "        \n",
    "        if conf_f.exists():\n",
    "            with open(conf_f, \"r\") as fp:\n",
    "                conf = yaml.load(fp, Loader=yaml.FullLoader)\n",
    "\n",
    "            synapses_f = model_dir / conf['synapses']\n",
    "            tokenizer_f = model_dir / conf['tokenizer']\n",
    "            if synapses_f.exists() and tokenizer_f.exists():\n",
    "                return\n",
    "    \n",
    "    tmp_file = download_flyvec_data(force=force)\n",
    "    unzip_data(tmp_file)"
   ]
  },
  {
   "cell_type": "code",
   "execution_count": null,
   "id": "vulnerable-carbon",
   "metadata": {},
   "outputs": [
    {
     "name": "stdout",
     "output_type": "stream",
     "text": [
      "[Errno 13] Permission denied: '/tmp/flyvec-data.zip'\n"
     ]
    },
    {
     "name": "stderr",
     "output_type": "stream",
     "text": [
      "  0% |                                                                        |\r"
     ]
    },
    {
     "name": "stdout",
     "output_type": "stream",
     "text": [
      "Downloading flyvec data:\n"
     ]
    },
    {
     "name": "stderr",
     "output_type": "stream",
     "text": [
      "100% |########################################################################|\n"
     ]
    }
   ],
   "source": [
    "#hide\n",
    "prepare_flyvec_data(force=True)"
   ]
  },
  {
   "cell_type": "markdown",
   "id": "serious-software",
   "metadata": {},
   "source": [
    "# Export -"
   ]
  },
  {
   "cell_type": "code",
   "execution_count": null,
   "id": "level-cameroon",
   "metadata": {},
   "outputs": [],
   "source": [
    "#hide\n",
    "from nbdev.export import notebook2script\n",
    "notebook2script()"
   ]
  }
 ],
 "metadata": {
  "kernelspec": {
   "display_name": "Python [conda env:flyvec] *",
   "language": "python",
   "name": "conda-env-flyvec-py"
  }
 },
 "nbformat": 4,
 "nbformat_minor": 5
}
